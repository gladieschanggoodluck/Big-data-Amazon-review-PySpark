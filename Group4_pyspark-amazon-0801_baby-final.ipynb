{
 "cells": [
  {
   "cell_type": "markdown",
   "metadata": {},
   "source": [
    "Huilin Chang, Gavin Wiehl, Travis Vitello\n",
    "DS5559"
   ]
  },
  {
   "cell_type": "code",
   "execution_count": 1,
   "metadata": {},
   "outputs": [],
   "source": [
    "import json"
   ]
  },
  {
   "cell_type": "code",
   "execution_count": 2,
   "metadata": {},
   "outputs": [],
   "source": [
    "from pyspark.ml import *\n",
    "from pyspark.ml.classification import *\n",
    "from pyspark.ml.feature import *\n",
    "from pyspark.ml.param import *\n",
    "from pyspark.ml.tuning import *\n",
    "from pyspark.ml.evaluation import *\n",
    "from pyspark.sql.types import DoubleType\n",
    "from pyspark.sql.functions import rand \n",
    "from sklearn.metrics import classification_report\n",
    "from time import time\n",
    "from pyspark import SparkContext, SparkConf\n",
    "from pyspark.sql import SQLContext, Row"
   ]
  },
  {
   "cell_type": "code",
   "execution_count": 3,
   "metadata": {},
   "outputs": [],
   "source": [
    "# from pyspark import SparkContext\n",
    "# sc = SparkContext.getOrCreate()"
   ]
  },
  {
   "cell_type": "code",
   "execution_count": 4,
   "metadata": {},
   "outputs": [],
   "source": [
    "import os\n",
    "from pyspark.sql import SparkSession\n",
    "spark = SparkSession.builder.getOrCreate()"
   ]
  },
  {
   "cell_type": "code",
   "execution_count": 5,
   "metadata": {},
   "outputs": [],
   "source": [
    "from numpy import array\n",
    "from math import sqrt\n",
    "\n",
    "from pyspark.mllib.clustering import KMeans, KMeansModel\n",
    "\n",
    "# Load and parse the data\n",
    "# Read data in json format\n",
    "df = spark.read.json(\"reviews_Baby_5.json.gz\")"
   ]
  },
  {
   "cell_type": "code",
   "execution_count": 6,
   "metadata": {},
   "outputs": [],
   "source": [
    "from pyspark import SparkContext\n",
    "from pyspark.sql.types import *\n",
    "from pyspark.sql import SparkSession\n",
    "from pyspark.sql.functions import col, lit\n",
    "from functools import reduce\n",
    "import nltk\n",
    "from nltk.corpus import stopwords\n",
    "from nltk.stem import WordNetLemmatizer\n",
    "import matplotlib.pyplot as plt\n",
    "import pandas as pd\n",
    "import re\n",
    "import string"
   ]
  },
  {
   "cell_type": "code",
   "execution_count": 7,
   "metadata": {},
   "outputs": [
    {
     "name": "stdout",
     "output_type": "stream",
     "text": [
      "+----------+-------+-------+--------------------+-----------+--------------+--------------------+--------------------+--------------+\n",
      "|      asin|helpful|overall|          reviewText| reviewTime|    reviewerID|        reviewerName|             summary|unixReviewTime|\n",
      "+----------+-------+-------+--------------------+-----------+--------------+--------------------+--------------------+--------------+\n",
      "|097293751X| [0, 0]|    5.0|Perfect for new p...|07 16, 2013|A1HK2FQW6KXQB2|Amanda Johnsen \"A...|             Awesine|    1373932800|\n",
      "|097293751X| [0, 0]|    5.0|This book is such...|06 29, 2013|A19K65VY14D13R|              angela|Should be require...|    1372464000|\n",
      "|097293751X| [0, 0]|    5.0|Helps me know exa...|03 19, 2014|A2LL1TGG90977E|              Carter|Grandmother watch...|    1395187200|\n",
      "|097293751X| [0, 0]|    5.0|I bought this a f...|08 17, 2013| A5G19RYX8599E|        cfpurplerose|        repeat buyer|    1376697600|\n",
      "|097293751X| [0, 0]|    4.0|I wanted an alter...| 04 1, 2014| A2496A4EWMLQ7|            C. Jeter|               Great|    1396310400|\n",
      "+----------+-------+-------+--------------------+-----------+--------------+--------------------+--------------------+--------------+\n",
      "only showing top 5 rows\n",
      "\n"
     ]
    }
   ],
   "source": [
    "df.show(5)"
   ]
  },
  {
   "cell_type": "code",
   "execution_count": 8,
   "metadata": {},
   "outputs": [],
   "source": [
    "import json\n",
    "import pandas as pd\n",
    "data_df = pd.read_json('reviews_Baby_5.json.gz', lines=True)"
   ]
  },
  {
   "cell_type": "code",
   "execution_count": 9,
   "metadata": {},
   "outputs": [
    {
     "data": {
      "text/html": [
       "<div>\n",
       "<style scoped>\n",
       "    .dataframe tbody tr th:only-of-type {\n",
       "        vertical-align: middle;\n",
       "    }\n",
       "\n",
       "    .dataframe tbody tr th {\n",
       "        vertical-align: top;\n",
       "    }\n",
       "\n",
       "    .dataframe thead th {\n",
       "        text-align: right;\n",
       "    }\n",
       "</style>\n",
       "<table border=\"1\" class=\"dataframe\">\n",
       "  <thead>\n",
       "    <tr style=\"text-align: right;\">\n",
       "      <th></th>\n",
       "      <th>reviewerID</th>\n",
       "      <th>asin</th>\n",
       "      <th>reviewerName</th>\n",
       "      <th>helpful</th>\n",
       "      <th>reviewText</th>\n",
       "      <th>overall</th>\n",
       "      <th>summary</th>\n",
       "      <th>unixReviewTime</th>\n",
       "      <th>reviewTime</th>\n",
       "    </tr>\n",
       "  </thead>\n",
       "  <tbody>\n",
       "    <tr>\n",
       "      <td>0</td>\n",
       "      <td>A1HK2FQW6KXQB2</td>\n",
       "      <td>097293751X</td>\n",
       "      <td>Amanda Johnsen \"Amanda E. Johnsen\"</td>\n",
       "      <td>[0, 0]</td>\n",
       "      <td>Perfect for new parents. We were able to keep ...</td>\n",
       "      <td>5</td>\n",
       "      <td>Awesine</td>\n",
       "      <td>1373932800</td>\n",
       "      <td>07 16, 2013</td>\n",
       "    </tr>\n",
       "    <tr>\n",
       "      <td>1</td>\n",
       "      <td>A19K65VY14D13R</td>\n",
       "      <td>097293751X</td>\n",
       "      <td>angela</td>\n",
       "      <td>[0, 0]</td>\n",
       "      <td>This book is such a life saver.  It has been s...</td>\n",
       "      <td>5</td>\n",
       "      <td>Should be required for all new parents!</td>\n",
       "      <td>1372464000</td>\n",
       "      <td>06 29, 2013</td>\n",
       "    </tr>\n",
       "    <tr>\n",
       "      <td>2</td>\n",
       "      <td>A2LL1TGG90977E</td>\n",
       "      <td>097293751X</td>\n",
       "      <td>Carter</td>\n",
       "      <td>[0, 0]</td>\n",
       "      <td>Helps me know exactly how my babies day has go...</td>\n",
       "      <td>5</td>\n",
       "      <td>Grandmother watching baby</td>\n",
       "      <td>1395187200</td>\n",
       "      <td>03 19, 2014</td>\n",
       "    </tr>\n",
       "    <tr>\n",
       "      <td>3</td>\n",
       "      <td>A5G19RYX8599E</td>\n",
       "      <td>097293751X</td>\n",
       "      <td>cfpurplerose</td>\n",
       "      <td>[0, 0]</td>\n",
       "      <td>I bought this a few times for my older son and...</td>\n",
       "      <td>5</td>\n",
       "      <td>repeat buyer</td>\n",
       "      <td>1376697600</td>\n",
       "      <td>08 17, 2013</td>\n",
       "    </tr>\n",
       "    <tr>\n",
       "      <td>4</td>\n",
       "      <td>A2496A4EWMLQ7</td>\n",
       "      <td>097293751X</td>\n",
       "      <td>C. Jeter</td>\n",
       "      <td>[0, 0]</td>\n",
       "      <td>I wanted an alternative to printing out daily ...</td>\n",
       "      <td>4</td>\n",
       "      <td>Great</td>\n",
       "      <td>1396310400</td>\n",
       "      <td>04 1, 2014</td>\n",
       "    </tr>\n",
       "    <tr>\n",
       "      <td>...</td>\n",
       "      <td>...</td>\n",
       "      <td>...</td>\n",
       "      <td>...</td>\n",
       "      <td>...</td>\n",
       "      <td>...</td>\n",
       "      <td>...</td>\n",
       "      <td>...</td>\n",
       "      <td>...</td>\n",
       "      <td>...</td>\n",
       "    </tr>\n",
       "    <tr>\n",
       "      <td>160787</td>\n",
       "      <td>A30J0DKNKCF7SR</td>\n",
       "      <td>B00L13XFIE</td>\n",
       "      <td>SD</td>\n",
       "      <td>[0, 0]</td>\n",
       "      <td>Bought this as a baby gift and my friend heard...</td>\n",
       "      <td>5</td>\n",
       "      <td>Great baby gift</td>\n",
       "      <td>1391126400</td>\n",
       "      <td>01 31, 2014</td>\n",
       "    </tr>\n",
       "    <tr>\n",
       "      <td>160788</td>\n",
       "      <td>AG4E44KM93P4L</td>\n",
       "      <td>B00L13XFIE</td>\n",
       "      <td>Silofish</td>\n",
       "      <td>[0, 1]</td>\n",
       "      <td>I am new to cloth diapering. I was leery that ...</td>\n",
       "      <td>4</td>\n",
       "      <td>Not too bulky</td>\n",
       "      <td>1343606400</td>\n",
       "      <td>07 30, 2012</td>\n",
       "    </tr>\n",
       "    <tr>\n",
       "      <td>160789</td>\n",
       "      <td>A2UZUH4QHV4HA1</td>\n",
       "      <td>B00L13XFIE</td>\n",
       "      <td>S. Smith \"sunnshyne309\"</td>\n",
       "      <td>[0, 0]</td>\n",
       "      <td>My friend is planning on cloth diapering and I...</td>\n",
       "      <td>5</td>\n",
       "      <td>great help!</td>\n",
       "      <td>1364256000</td>\n",
       "      <td>03 26, 2013</td>\n",
       "    </tr>\n",
       "    <tr>\n",
       "      <td>160790</td>\n",
       "      <td>A2Z26PUQPMT5JV</td>\n",
       "      <td>B00L13XFIE</td>\n",
       "      <td>Stephanie S. Kim</td>\n",
       "      <td>[0, 0]</td>\n",
       "      <td>We LOVE the organic cotton/hemp inserts. They'...</td>\n",
       "      <td>5</td>\n",
       "      <td>Love these diapers!</td>\n",
       "      <td>1391731200</td>\n",
       "      <td>02 7, 2014</td>\n",
       "    </tr>\n",
       "    <tr>\n",
       "      <td>160791</td>\n",
       "      <td>A3CIIOMK18CHXM</td>\n",
       "      <td>B00L13XFIE</td>\n",
       "      <td>Viviana</td>\n",
       "      <td>[1, 1]</td>\n",
       "      <td>These are great. I should have bought hemp ins...</td>\n",
       "      <td>5</td>\n",
       "      <td>Really absorbent</td>\n",
       "      <td>1355788800</td>\n",
       "      <td>12 18, 2012</td>\n",
       "    </tr>\n",
       "  </tbody>\n",
       "</table>\n",
       "<p>160792 rows × 9 columns</p>\n",
       "</div>"
      ],
      "text/plain": [
       "            reviewerID        asin                        reviewerName  \\\n",
       "0       A1HK2FQW6KXQB2  097293751X  Amanda Johnsen \"Amanda E. Johnsen\"   \n",
       "1       A19K65VY14D13R  097293751X                              angela   \n",
       "2       A2LL1TGG90977E  097293751X                              Carter   \n",
       "3        A5G19RYX8599E  097293751X                        cfpurplerose   \n",
       "4        A2496A4EWMLQ7  097293751X                            C. Jeter   \n",
       "...                ...         ...                                 ...   \n",
       "160787  A30J0DKNKCF7SR  B00L13XFIE                                  SD   \n",
       "160788   AG4E44KM93P4L  B00L13XFIE                            Silofish   \n",
       "160789  A2UZUH4QHV4HA1  B00L13XFIE             S. Smith \"sunnshyne309\"   \n",
       "160790  A2Z26PUQPMT5JV  B00L13XFIE                    Stephanie S. Kim   \n",
       "160791  A3CIIOMK18CHXM  B00L13XFIE                             Viviana   \n",
       "\n",
       "       helpful                                         reviewText  overall  \\\n",
       "0       [0, 0]  Perfect for new parents. We were able to keep ...        5   \n",
       "1       [0, 0]  This book is such a life saver.  It has been s...        5   \n",
       "2       [0, 0]  Helps me know exactly how my babies day has go...        5   \n",
       "3       [0, 0]  I bought this a few times for my older son and...        5   \n",
       "4       [0, 0]  I wanted an alternative to printing out daily ...        4   \n",
       "...        ...                                                ...      ...   \n",
       "160787  [0, 0]  Bought this as a baby gift and my friend heard...        5   \n",
       "160788  [0, 1]  I am new to cloth diapering. I was leery that ...        4   \n",
       "160789  [0, 0]  My friend is planning on cloth diapering and I...        5   \n",
       "160790  [0, 0]  We LOVE the organic cotton/hemp inserts. They'...        5   \n",
       "160791  [1, 1]  These are great. I should have bought hemp ins...        5   \n",
       "\n",
       "                                        summary  unixReviewTime   reviewTime  \n",
       "0                                       Awesine      1373932800  07 16, 2013  \n",
       "1       Should be required for all new parents!      1372464000  06 29, 2013  \n",
       "2                     Grandmother watching baby      1395187200  03 19, 2014  \n",
       "3                                  repeat buyer      1376697600  08 17, 2013  \n",
       "4                                         Great      1396310400   04 1, 2014  \n",
       "...                                         ...             ...          ...  \n",
       "160787                          Great baby gift      1391126400  01 31, 2014  \n",
       "160788                            Not too bulky      1343606400  07 30, 2012  \n",
       "160789                              great help!      1364256000  03 26, 2013  \n",
       "160790                      Love these diapers!      1391731200   02 7, 2014  \n",
       "160791                         Really absorbent      1355788800  12 18, 2012  \n",
       "\n",
       "[160792 rows x 9 columns]"
      ]
     },
     "execution_count": 9,
     "metadata": {},
     "output_type": "execute_result"
    }
   ],
   "source": [
    "data_df"
   ]
  },
  {
   "cell_type": "code",
   "execution_count": 10,
   "metadata": {},
   "outputs": [
    {
     "data": {
      "text/plain": [
       "(160792, 9)"
      ]
     },
     "execution_count": 10,
     "metadata": {},
     "output_type": "execute_result"
    }
   ],
   "source": [
    "data_df.shape"
   ]
  },
  {
   "cell_type": "code",
   "execution_count": 11,
   "metadata": {},
   "outputs": [
    {
     "data": {
      "text/plain": [
       "<seaborn.axisgrid.PairGrid at 0x1cd5a2229e8>"
      ]
     },
     "execution_count": 11,
     "metadata": {},
     "output_type": "execute_result"
    },
    {
     "data": {
      "image/png": "[encoded data removed]",
      "text/plain": [
       "<Figure size 360x360 with 6 Axes>"
      ]
     },
     "metadata": {
      "needs_background": "light"
     },
     "output_type": "display_data"
    }
   ],
   "source": [
    "import seaborn as sns\n",
    "sns.pairplot(data_df)"
   ]
  },
  {
   "cell_type": "code",
   "execution_count": 12,
   "metadata": {},
   "outputs": [
    {
     "data": {
      "image/png": "[encoded data removed]",
      "text/plain": [
       "<Figure size 432x288 with 1 Axes>"
      ]
     },
     "metadata": {
      "needs_background": "light"
     },
     "output_type": "display_data"
    }
   ],
   "source": [
    "from matplotlib import pyplot as plt\n",
    "sns.distplot(data_df['overall'],kde = False)\n",
    "plt.show()"
   ]
  },
  {
   "cell_type": "code",
   "execution_count": 13,
   "metadata": {},
   "outputs": [
    {
     "data": {
      "text/plain": [
       "reviewerID        160792\n",
       "asin              160792\n",
       "reviewerName      159427\n",
       "helpful           160792\n",
       "reviewText        160792\n",
       "overall           160792\n",
       "summary           160792\n",
       "unixReviewTime    160792\n",
       "reviewTime        160792\n",
       "dtype: int64"
      ]
     },
     "execution_count": 13,
     "metadata": {},
     "output_type": "execute_result"
    }
   ],
   "source": [
    "data_df.count()"
   ]
  },
  {
   "cell_type": "code",
   "execution_count": 14,
   "metadata": {},
   "outputs": [],
   "source": [
    "from pyspark.sql.types import *\n",
    "from pyspark.sql.functions import col, lit\n",
    "from functools import reduce\n",
    "import nltk\n",
    "from nltk.corpus import stopwords\n",
    "from nltk.stem import WordNetLemmatizer\n",
    "import matplotlib.pyplot as plt\n",
    "import pandas as pd\n",
    "import re\n",
    "import string"
   ]
  },
  {
   "cell_type": "code",
   "execution_count": 15,
   "metadata": {},
   "outputs": [
    {
     "name": "stdout",
     "output_type": "stream",
     "text": [
      "root\n",
      " |-- asin: string (nullable = true)\n",
      " |-- helpful: array (nullable = true)\n",
      " |    |-- element: long (containsNull = true)\n",
      " |-- overall: double (nullable = true)\n",
      " |-- reviewText: string (nullable = true)\n",
      " |-- reviewTime: string (nullable = true)\n",
      " |-- reviewerID: string (nullable = true)\n",
      " |-- reviewerName: string (nullable = true)\n",
      " |-- summary: string (nullable = true)\n",
      " |-- unixReviewTime: long (nullable = true)\n",
      "\n"
     ]
    }
   ],
   "source": [
    "df.printSchema()"
   ]
  },
  {
   "cell_type": "code",
   "execution_count": 16,
   "metadata": {},
   "outputs": [],
   "source": [
    "df_n = df.select(\"reviewText\")"
   ]
  },
  {
   "cell_type": "code",
   "execution_count": 17,
   "metadata": {},
   "outputs": [
    {
     "name": "stdout",
     "output_type": "stream",
     "text": [
      "+-------+-----------------+\n",
      "|summary|          overall|\n",
      "+-------+-----------------+\n",
      "|  count|           160792|\n",
      "|   mean|4.214115130105975|\n",
      "| stddev|1.144324709108409|\n",
      "|    min|              1.0|\n",
      "|    max|              5.0|\n",
      "+-------+-----------------+\n",
      "\n"
     ]
    }
   ],
   "source": [
    "df.describe(\"overall\").show()"
   ]
  },
  {
   "cell_type": "markdown",
   "metadata": {},
   "source": [
    "## Remove netutal: overall = 3"
   ]
  },
  {
   "cell_type": "code",
   "execution_count": 18,
   "metadata": {},
   "outputs": [],
   "source": [
    "df1 = df.filter(\"overall != 3\")"
   ]
  },
  {
   "cell_type": "code",
   "execution_count": 19,
   "metadata": {},
   "outputs": [],
   "source": [
    "from pyspark.ml.feature import Bucketizer\n",
    "splits = [-float(\"inf\"), 4, float(\"inf\")]\n",
    "bucketizer = Bucketizer(splits=splits, inputCol=\"overall\", outputCol=\"label\")"
   ]
  },
  {
   "cell_type": "code",
   "execution_count": 20,
   "metadata": {},
   "outputs": [],
   "source": [
    "df2= bucketizer.transform(df1)"
   ]
  },
  {
   "cell_type": "code",
   "execution_count": 21,
   "metadata": {},
   "outputs": [
    {
     "name": "stdout",
     "output_type": "stream",
     "text": [
      "+-------+-----+-----+\n",
      "|overall|label|count|\n",
      "+-------+-----+-----+\n",
      "|    2.0|  0.0| 9193|\n",
      "|    5.0|  1.0|93526|\n",
      "|    1.0|  0.0| 7819|\n",
      "|    4.0|  1.0|32999|\n",
      "+-------+-----+-----+\n",
      "\n"
     ]
    }
   ],
   "source": [
    "df2.groupBy(\"overall\",\"label\").count().show()"
   ]
  },
  {
   "cell_type": "code",
   "execution_count": 22,
   "metadata": {},
   "outputs": [
    {
     "name": "stdout",
     "output_type": "stream",
     "text": [
      "+--------------------+-----+-----+\n",
      "|          reviewText|label|count|\n",
      "+--------------------+-----+-----+\n",
      "|This item was ext...|  1.0|    1|\n",
      "|This has been my ...|  1.0|    1|\n",
      "|We bought these t...|  1.0|    1|\n",
      "|I was skeptical a...|  1.0|    1|\n",
      "|In registering an...|  1.0|    1|\n",
      "|You cannot imagin...|  1.0|    1|\n",
      "|We needed a gate ...|  1.0|    1|\n",
      "|This fits well an...|  1.0|    1|\n",
      "|Easy to install. ...|  1.0|    1|\n",
      "|This tub is perfe...|  1.0|    1|\n",
      "|These work great ...|  1.0|    1|\n",
      "|We have had this ...|  1.0|    1|\n",
      "|I used to have on...|  1.0|    1|\n",
      "|These bugs are a ...|  1.0|    1|\n",
      "|Don't read negati...|  1.0|    1|\n",
      "|I bought these bo...|  0.0|    1|\n",
      "|My daughter was n...|  1.0|    1|\n",
      "|I initially got t...|  1.0|    1|\n",
      "|I'm not sure if i...|  1.0|    1|\n",
      "|i love this seat!...|  1.0|    1|\n",
      "+--------------------+-----+-----+\n",
      "only showing top 20 rows\n",
      "\n"
     ]
    }
   ],
   "source": [
    "df3 = df2.groupBy(\"reviewText\",\"label\").count().show()"
   ]
  },
  {
   "cell_type": "code",
   "execution_count": 23,
   "metadata": {},
   "outputs": [],
   "source": [
    "df4 = df2.select(\"reviewText\",\"label\")"
   ]
  },
  {
   "cell_type": "code",
   "execution_count": 24,
   "metadata": {},
   "outputs": [
    {
     "name": "stdout",
     "output_type": "stream",
     "text": [
      "+--------------------+-----+\n",
      "|          reviewText|label|\n",
      "+--------------------+-----+\n",
      "|Perfect for new p...|  1.0|\n",
      "|This book is such...|  1.0|\n",
      "|Helps me know exa...|  1.0|\n",
      "|I bought this a f...|  1.0|\n",
      "|I wanted an alter...|  1.0|\n",
      "|This is great for...|  1.0|\n",
      "|My 3 month old so...|  1.0|\n",
      "|This book is perf...|  1.0|\n",
      "|The Baby Tracker ...|  1.0|\n",
      "|During your postp...|  1.0|\n",
      "|I use this so tha...|  1.0|\n",
      "|This book is a gr...|  1.0|\n",
      "|Has columns for a...|  1.0|\n",
      "|Easy to use, simp...|  1.0|\n",
      "|We used this to h...|  1.0|\n",
      "|This item was ext...|  1.0|\n",
      "|I've been using t...|  1.0|\n",
      "|Of course this ha...|  1.0|\n",
      "|I've been using t...|  1.0|\n",
      "|I didn't think I ...|  1.0|\n",
      "+--------------------+-----+\n",
      "only showing top 20 rows\n",
      "\n"
     ]
    }
   ],
   "source": [
    "df4.show()"
   ]
  },
  {
   "cell_type": "markdown",
   "metadata": {},
   "source": [
    "## train, test split"
   ]
  },
  {
   "cell_type": "code",
   "execution_count": 25,
   "metadata": {},
   "outputs": [],
   "source": [
    "from pyspark.ml.feature import Tokenizer\n",
    "from pyspark.ml.feature import RegexTokenizer\n",
    "from pyspark.ml.feature import HashingTF\n",
    "from pyspark.ml.feature import IDF\n",
    "from pyspark.ml.feature import StopWordsRemover"
   ]
  },
  {
   "cell_type": "code",
   "execution_count": 26,
   "metadata": {},
   "outputs": [
    {
     "name": "stdout",
     "output_type": "stream",
     "text": [
      "Row(features=SparseVector(262144, {9559: 6.5513, 15664: 2.2981, 17252: 3.9359, 29945: 2.7983, 32890: 2.3226, 32957: 5.7195, 63689: 3.0557, 70418: 3.0871, 81046: 1.9048, 82111: 2.0935, 92646: 3.502, 101464: 2.6963, 105535: 6.0783, 109810: 5.1773, 118590: 2.5943, 127382: 3.9281, 140784: 2.45, 143288: 7.6548, 172517: 7.7818, 176996: 1.0783, 216086: 7.2996, 238301: 2.3603, 238605: 2.5644, 256693: 3.7559}), label=1.0)\n",
      "Row(features=SparseVector(262144, {5795: 8.7643, 9559: 6.5513, 24145: 3.2479, 32957: 5.7195, 37101: 4.4041, 66092: 2.9754, 70028: 2.3969, 74383: 4.9837, 83756: 3.869, 84077: 5.9237, 101464: 2.6963, 108335: 9.1663, 108363: 4.8364, 118590: 2.5943, 120418: 4.3996, 125372: 1.1808, 126017: 8.0032, 132270: 2.1778, 132538: 4.7507, 136243: 5.2424, 141522: 2.9553, 144620: 7.4799, 146139: 3.5425, 148067: 6.8006, 158845: 5.4791, 160043: 4.6402, 172477: 2.3629, 172517: 3.8909, 176260: 3.7736, 176996: 2.1565, 181489: 6.236, 189113: 9.3901, 196729: 6.5865, 215995: 2.6778, 224769: 2.7484, 226568: 5.751, 229407: 3.4085, 236232: 2.7949, 252444: 6.2114, 254304: 5.4382}), label=1.0)\n",
      "Row(features=SparseVector(262144, {13957: 2.8024, 19003: 5.55, 34343: 2.4029, 40266: 4.847, 51044: 3.6771, 63139: 5.0664, 63473: 5.3989, 64188: 3.5544, 83161: 2.4204, 84609: 2.9311, 102451: 3.9601, 106824: 5.3091, 107810: 3.2765, 140586: 3.3969, 140931: 5.56, 147136: 1.6399, 166687: 3.7898, 172428: 6.7992, 172477: 2.3629, 182496: 4.8933, 189113: 4.695, 201663: 5.2718}), label=1.0)\n"
     ]
    }
   ],
   "source": [
    "from pyspark.ml.feature import StringIndexer\n",
    "##### convert the distinct labels in the input dataset to index values\n",
    "labelIndexer = StringIndexer(inputCol=\"label\", outputCol=\"indexedLabel\").fit(df4)\n",
    "##### tokenizer \n",
    "tokenizer = RegexTokenizer(inputCol=\"reviewText\", outputCol=\"words\", pattern=\"\\W\")##'\\w' remove none-word letters\n",
    "df_tokenized = tokenizer.transform(df4)\n",
    "##### remove stop words\n",
    "remover = StopWordsRemover(inputCol=\"words\", outputCol=\"filtered\")\n",
    "df_removed = remover.transform(df_tokenized)\n",
    "##### Convert to TF words vector\n",
    "hashingTF = HashingTF(inputCol=\"filtered\", outputCol=\"rawFeatures\")\n",
    "df_TF = hashingTF.transform(df_removed)\n",
    "##### Convert to TF*IDF words vector\n",
    "idf = IDF(inputCol=\"rawFeatures\", outputCol=\"features\")\n",
    "idfModel = idf.fit(df_TF)\n",
    "df_idf = idfModel.transform(df_TF)\n",
    "for features_label in df_idf.select(\"features\", \"label\").take(3):\n",
    "    print(features_label)"
   ]
  },
  {
   "cell_type": "code",
   "execution_count": 27,
   "metadata": {},
   "outputs": [
    {
     "name": "stdout",
     "output_type": "stream",
     "text": [
      "Sample number in the train set : 114724\n",
      "Sample number in the test set : 28813\n"
     ]
    }
   ],
   "source": [
    "# Split data aproximately into training (80%) and test (20%)\n",
    "(train, test)=df4.randomSplit([0.8,0.2], seed = 314)\n",
    "# Cache the train and test data in-memory \n",
    "train = train.cache()\n",
    "test = test.cache()\n",
    "print('Sample number in the train set : {}'.format(train.count())) \n",
    "print('Sample number in the test set : {}'.format(test.count())) "
   ]
  },
  {
   "cell_type": "code",
   "execution_count": 28,
   "metadata": {},
   "outputs": [
    {
     "data": {
      "text/html": [
       "<div>\n",
       "<style scoped>\n",
       "    .dataframe tbody tr th:only-of-type {\n",
       "        vertical-align: middle;\n",
       "    }\n",
       "\n",
       "    .dataframe tbody tr th {\n",
       "        vertical-align: top;\n",
       "    }\n",
       "\n",
       "    .dataframe thead th {\n",
       "        text-align: right;\n",
       "    }\n",
       "</style>\n",
       "<table border=\"1\" class=\"dataframe\">\n",
       "  <thead>\n",
       "    <tr style=\"text-align: right;\">\n",
       "      <th></th>\n",
       "      <th>label</th>\n",
       "      <th>count</th>\n",
       "    </tr>\n",
       "  </thead>\n",
       "  <tbody>\n",
       "    <tr>\n",
       "      <td>0</td>\n",
       "      <td>0.0</td>\n",
       "      <td>13657</td>\n",
       "    </tr>\n",
       "    <tr>\n",
       "      <td>1</td>\n",
       "      <td>1.0</td>\n",
       "      <td>101067</td>\n",
       "    </tr>\n",
       "  </tbody>\n",
       "</table>\n",
       "</div>"
      ],
      "text/plain": [
       "   label   count\n",
       "0    0.0   13657\n",
       "1    1.0  101067"
      ]
     },
     "execution_count": 28,
     "metadata": {},
     "output_type": "execute_result"
    }
   ],
   "source": [
    "train.groupby('label').count().toPandas()"
   ]
  },
  {
   "cell_type": "code",
   "execution_count": 29,
   "metadata": {},
   "outputs": [
    {
     "data": {
      "text/html": [
       "<div>\n",
       "<style scoped>\n",
       "    .dataframe tbody tr th:only-of-type {\n",
       "        vertical-align: middle;\n",
       "    }\n",
       "\n",
       "    .dataframe tbody tr th {\n",
       "        vertical-align: top;\n",
       "    }\n",
       "\n",
       "    .dataframe thead th {\n",
       "        text-align: right;\n",
       "    }\n",
       "</style>\n",
       "<table border=\"1\" class=\"dataframe\">\n",
       "  <thead>\n",
       "    <tr style=\"text-align: right;\">\n",
       "      <th></th>\n",
       "      <th>label</th>\n",
       "      <th>count</th>\n",
       "    </tr>\n",
       "  </thead>\n",
       "  <tbody>\n",
       "    <tr>\n",
       "      <td>0</td>\n",
       "      <td>0.0</td>\n",
       "      <td>3355</td>\n",
       "    </tr>\n",
       "    <tr>\n",
       "      <td>1</td>\n",
       "      <td>1.0</td>\n",
       "      <td>25458</td>\n",
       "    </tr>\n",
       "  </tbody>\n",
       "</table>\n",
       "</div>"
      ],
      "text/plain": [
       "   label  count\n",
       "0    0.0   3355\n",
       "1    1.0  25458"
      ]
     },
     "execution_count": 29,
     "metadata": {},
     "output_type": "execute_result"
    }
   ],
   "source": [
    "test.groupby('label').count().toPandas()"
   ]
  },
  {
   "cell_type": "code",
   "execution_count": 30,
   "metadata": {},
   "outputs": [],
   "source": [
    "## logistic regression"
   ]
  },
  {
   "cell_type": "code",
   "execution_count": 31,
   "metadata": {},
   "outputs": [],
   "source": [
    "## logistic regression\n",
    "def grid_search(p1,p2,p3,p4):\n",
    "    lr = LogisticRegression()\n",
    "    pipeline = Pipeline(stages=[labelIndexer,tokenizer, remover, hashingTF, idfModel, lr])\n",
    "  \n",
    "    #Create ParamGrid for Cross Validation\n",
    "    paramGrid = (ParamGridBuilder()\n",
    "                 .addGrid(hashingTF.numFeatures, [p1])\n",
    "                 .addGrid(lr.regParam, [p2])\n",
    "                 .addGrid(lr.elasticNetParam, [p3])\n",
    "                 .addGrid(lr.maxIter, [p4])\n",
    "                 .build())\n",
    "    evaluator = MulticlassClassificationEvaluator(labelCol=\"indexedLabel\", predictionCol=\"prediction\", metricName=\"accuracy\")\n",
    "    crossval = CrossValidator(estimator=pipeline,\n",
    "                              estimatorParamMaps=paramGrid,\n",
    "                              evaluator=evaluator,\n",
    "                              numFolds=4)\n",
    "    \n",
    "    ########  Run cross-validation, and choose the best set of parameters.\n",
    "    cvModel = crossval.fit(train)\n",
    "    # average cross-validation accuracy metric/s on all folds\n",
    "    average_score = cvModel.avgMetrics\n",
    "    print('average cross-validation accuracy = {}'.format(average_score[1])) \n",
    "    return average_score[1]"
   ]
  },
  {
   "cell_type": "code",
   "execution_count": 32,
   "metadata": {},
   "outputs": [],
   "source": [
    "from sklearn.metrics import confusion_matrix\n",
    "def Data_modeling(train, test, pipeline, paramGrid):\n",
    "    evaluator = MulticlassClassificationEvaluator(labelCol=\"label\", predictionCol=\"prediction\", metricName=\"accuracy\")\n",
    "    crossval = CrossValidator(estimator=pipeline,\n",
    "                              estimatorParamMaps=paramGrid,\n",
    "                              evaluator=evaluator,\n",
    "                              numFolds=3)\n",
    "    \n",
    "    ########  Run cross-validation, and choose the best set of parameters.\n",
    "    cvModel = crossval.fit(train)\n",
    "    \n",
    "    ########  Make predictions on on the test data\n",
    "    prediction = cvModel.transform(test)\n",
    "    average_score = cvModel.avgMetrics\n",
    "    print('average cross-validation accuracy = {}'.format(average_score[0])) \n",
    "    ######## Calculate accuracy of the prediction of the test data\n",
    "    evaluator = MulticlassClassificationEvaluator(labelCol=\"label\", predictionCol=\"prediction\", metricName=\"accuracy\")\n",
    "    accuracy_score=evaluator.evaluate(prediction)\n",
    "    # another way to calculate accuracy \n",
    "    #correct=prediction.filter(prediction['label']== prediction['prediction']).select(\"label\",\"prediction\")\n",
    "    #accuracy_score = correct.count() / float(test.count())  \n",
    "    print('Accuracy in the test data = {}'.format(accuracy_score)) \n",
    "    \n",
    "    ######## calculate F1 score of the prediction of the test data\n",
    "    evaluator = MulticlassClassificationEvaluator(labelCol=\"label\", predictionCol=\"prediction\", metricName=\"f1\")\n",
    "    f1_score=evaluator.evaluate(prediction)\n",
    "    print('F1 score in the test data = {}'.format(f1_score)) \n",
    "    # Calculate area under ROC for the prediction of the test data\n",
    "    #evaluator = BinaryClassificationEvaluator(labelCol=\"label\", metricName=\"areaUnderROC\")\n",
    "    #ROC_score=evaluator.evaluate(prediction)\n",
    "    #print 'areaUnderROC in the test data = {}'.format(ROC_score)\n",
    "    \n",
    "    ######## Print classification_report\n",
    "    prediction_and_labels=prediction.select(\"label\",\"prediction\")\n",
    "    y_true = []\n",
    "    y_pred = []\n",
    "    for x in prediction_and_labels.collect():\n",
    "        xx = list(x)\n",
    "        try:\n",
    "            tt = int(xx[1])\n",
    "            pp = int(xx[0])\n",
    "            y_true.append(tt)\n",
    "            y_pred.append(pp)\n",
    "        except:\n",
    "            continue\n",
    "\n",
    "    target_names = ['neg 0', 'pos 1']\n",
    "    print(classification_report(y_true, y_pred, target_names=target_names)) \n",
    "    print(confusion_matrix(y_true, y_pred))\n",
    "    return "
   ]
  },
  {
   "cell_type": "code",
   "execution_count": 33,
   "metadata": {},
   "outputs": [
    {
     "name": "stdout",
     "output_type": "stream",
     "text": [
      "average cross-validation accuracy = 0.888054075144795\n",
      "Accuracy in the test data = 0.8906396418283413\n",
      "F1 score in the test data = 0.8475512158454273\n",
      "              precision    recall  f1-score   support\n",
      "\n",
      "       neg 0       0.07      0.86      0.13       282\n",
      "       pos 1       1.00      0.89      0.94     28531\n",
      "\n",
      "    accuracy                           0.89     28813\n",
      "   macro avg       0.54      0.88      0.54     28813\n",
      "weighted avg       0.99      0.89      0.93     28813\n",
      "\n",
      "[[  243    39]\n",
      " [ 3112 25419]]\n"
     ]
    }
   ],
   "source": [
    "# trained by a logistic regression \n",
    "from pyspark.ml.classification import LogisticRegression\n",
    "lr = LogisticRegression()\n",
    "# Build a pipeline\n",
    "pipeline = Pipeline(stages=[labelIndexer,tokenizer, remover, hashingTF, idfModel, lr])\n",
    "\n",
    "# Create ParamGrid for Cross Validation \n",
    "paramGrid = (ParamGridBuilder()\n",
    "             .addGrid(hashingTF.numFeatures, [50000])\n",
    "             .addGrid(lr.regParam, [0.10])\n",
    "             .addGrid(lr.elasticNetParam, [0.10])\n",
    "             .addGrid(lr.maxIter, [10])\n",
    "             .build())\n",
    "# Execute 3-folds cross validation for hyperparameter tuning, model prediction and model evaluation.\n",
    "Data_modeling(train, test, pipeline, paramGrid)"
   ]
  },
  {
   "cell_type": "code",
   "execution_count": 22,
   "metadata": {},
   "outputs": [],
   "source": [
    "## naive bayes"
   ]
  },
  {
   "cell_type": "code",
   "execution_count": 34,
   "metadata": {},
   "outputs": [],
   "source": [
    "def grid_search(p1,p2):\n",
    "    nb = NaiveBayes()\n",
    "    pipeline = Pipeline(stages=[labelIndexer,tokenizer, remover, hashingTF, idfModel, nb])\n",
    "  \n",
    "    #Create ParamGrid for Cross Validation\n",
    "    paramGrid = (ParamGridBuilder()\n",
    "                 .addGrid(hashingTF.numFeatures, [p1])\n",
    "                 .addGrid(nb.smoothing, [p2])\n",
    "                 .build())\n",
    "    evaluator = MulticlassClassificationEvaluator(labelCol=\"label\", predictionCol=\"prediction\", metricName=\"accuracy\")\n",
    "    crossval = CrossValidator(estimator=pipeline,\n",
    "                              estimatorParamMaps=paramGrid,\n",
    "                              evaluator=evaluator,\n",
    "                              numFolds=1)\n",
    "    \n",
    "    ########  Run cross-validation, and choose the best set of parameters.\n",
    "    cvModel = crossval.fit(train)\n",
    "    # average cross-validation accuracy metric/s on all folds\n",
    "    average_score = cvModel.avgMetrics\n",
    "    print('average cross-validation accuracy = {}'.format(average_score[0])) \n",
    "    return average_score[0]"
   ]
  },
  {
   "cell_type": "code",
   "execution_count": 35,
   "metadata": {},
   "outputs": [
    {
     "name": "stdout",
     "output_type": "stream",
     "text": [
      "average cross-validation accuracy = 0.8650649351695062\n",
      "Accuracy in the test data = 0.862145559296151\n",
      "F1 score in the test data = 0.8771130624334371\n",
      "              precision    recall  f1-score   support\n",
      "\n",
      "       neg 0       0.77      0.45      0.57      5809\n",
      "       pos 1       0.87      0.97      0.92     23004\n",
      "\n",
      "    accuracy                           0.86     28813\n",
      "   macro avg       0.82      0.71      0.74     28813\n",
      "weighted avg       0.85      0.86      0.85     28813\n",
      "\n",
      "[[ 2596  3213]\n",
      " [  759 22245]]\n"
     ]
    }
   ],
   "source": [
    "# trained by a Naïve Bayes \n",
    "nb = NaiveBayes()\n",
    "# Build a pipeline\n",
    "pipeline = Pipeline(stages=[labelIndexer,tokenizer, remover, hashingTF, idfModel, nb])\n",
    "# Create ParamGrid for Cross Validation \n",
    "paramGrid = (ParamGridBuilder()\n",
    "             .addGrid(hashingTF.numFeatures, [40000])\n",
    "             .addGrid(nb.smoothing, [1.0])\n",
    "             .build())\n",
    "# Execute 4-folds cross validation for hyperparameter tuning, model prediction and model evaluation.\n",
    "Data_modeling(train, test, pipeline, paramGrid)"
   ]
  },
  {
   "cell_type": "code",
   "execution_count": 36,
   "metadata": {},
   "outputs": [],
   "source": [
    "## Random forest\n",
    "def grid_search(p1,p2,p3,p4):\n",
    "    rf = RandomForestClassifier(labelCol=\"label\",impurity=\"entropy\", seed=5043)\n",
    "    pipeline = Pipeline(stages=[labelIndexer,tokenizer, remover, hashingTF, idfModel, rf])\n",
    "  \n",
    "    #Create ParamGrid for Cross Validation\n",
    "    paramGrid = (ParamGridBuilder()\n",
    "                 .addGrid(hashingTF.numFeatures, [p1])\n",
    "                 .addGrid(rf.numTrees, [p2])\n",
    "                 .addGrid(rf.maxDepth, [p3])\n",
    "                 .addGrid(rf.minInstancesPerNode, [p4])\n",
    "                 .build())\n",
    "    evaluator = MulticlassClassificationEvaluator(labelCol=\"label\", predictionCol=\"prediction\", metricName=\"accuracy\")\n",
    "    crossval = CrossValidator(estimator=pipeline,\n",
    "                              estimatorParamMaps=paramGrid,\n",
    "                              evaluator=evaluator,\n",
    "                              numFolds=1)\n",
    "    \n",
    "    ########  Run cross-validation, and choose the best set of parameters.\n",
    "    cvModel = crossval.fit(train)\n",
    "    # average cross-validation accuracy metric/s on all folds\n",
    "    average_score = cvModel.avgMetrics\n",
    "    print('average cross-validation accuracy = {}'.format(average_score[0])) \n",
    "    return average_score[0]"
   ]
  },
  {
   "cell_type": "code",
   "execution_count": 37,
   "metadata": {},
   "outputs": [
    {
     "name": "stdout",
     "output_type": "stream",
     "text": [
      "average cross-validation accuracy = 0.8809952833735155\n",
      "Accuracy in the test data = 0.8836636240585847\n",
      "F1 score in the test data = 0.8292594492507848\n",
      "              precision    recall  f1-score   support\n",
      "\n",
      "       neg 0       0.00      0.80      0.00         5\n",
      "       pos 1       1.00      0.88      0.94     28808\n",
      "\n",
      "    accuracy                           0.88     28813\n",
      "   macro avg       0.50      0.84      0.47     28813\n",
      "weighted avg       1.00      0.88      0.94     28813\n",
      "\n",
      "[[    4     1]\n",
      " [ 3351 25457]]\n"
     ]
    }
   ],
   "source": [
    "rf = RandomForestClassifier(labelCol=\"label\",impurity=\"entropy\", seed=5043)\n",
    "# Build a pipeline\n",
    "pipeline = Pipeline(stages=[labelIndexer,tokenizer, remover, hashingTF, idfModel, rf])\n",
    "\n",
    "# Create ParamGrid for Cross Validation\n",
    "paramGrid = (ParamGridBuilder()\n",
    "             .addGrid(hashingTF.numFeatures, [50000])\n",
    "             .addGrid(rf.numTrees, [31])\n",
    "             .addGrid(rf.maxDepth, [29])\n",
    "             .addGrid(rf.minInstancesPerNode, [1])\n",
    "             .build())\n",
    "# Execute 4-folds cross validation for hyperparameter tuning, model prediction and model evaluation.\n",
    "Data_modeling(train, test, pipeline, paramGrid)"
   ]
  },
  {
   "cell_type": "code",
   "execution_count": null,
   "metadata": {},
   "outputs": [],
   "source": []
  }
 ],
 "metadata": {
  "kernelspec": {
   "display_name": "Python 3",
   "language": "python",
   "name": "python3"
  },
  "language_info": {
   "codemirror_mode": {
    "name": "ipython",
    "version": 3
   },
   "file_extension": ".py",
   "mimetype": "text/x-python",
   "name": "python",
   "nbconvert_exporter": "python",
   "pygments_lexer": "ipython3",
   "version": "3.7.1"
  }
 },
 "nbformat": 4,
 "nbformat_minor": 4
}
